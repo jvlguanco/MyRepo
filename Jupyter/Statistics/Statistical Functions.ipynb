{
 "cells": [
  {
   "cell_type": "markdown",
   "id": "a549a5eb",
   "metadata": {},
   "source": [
    "# Arrays and Lists"
   ]
  },
  {
   "cell_type": "markdown",
   "id": "5f8cbd6b",
   "metadata": {},
   "source": [
    "An array is a type of data structure. To use, **Import** the data structure from the **array** module. \n",
    "\n",
    "A list is a data structure that is built into Python and holds a collection og items."
   ]
  },
  {
   "cell_type": "code",
   "execution_count": 1,
   "id": "a6202abc",
   "metadata": {},
   "outputs": [
    {
     "name": "stdout",
     "output_type": "stream",
     "text": [
      "array('i', [5, 4, 3, 5, 8])\n"
     ]
    }
   ],
   "source": [
    "import array as arr\n",
    "\n",
    "friends_usage = [5, 4, 3, 5, 8, 2, 5, 2, 5, 8, 10, 8, 7, 9, 10, 5, 7, 5, 7, 5, 4, 3, 5, 8, 4]\n",
    "sample_data = arr.array('i', friends_usage)\n",
    "\n",
    "print(sample_data[0:5])"
   ]
  },
  {
   "cell_type": "markdown",
   "id": "784cb441",
   "metadata": {},
   "source": [
    "This code converts **sample_data array** to an ordinary list with the same items"
   ]
  },
  {
   "cell_type": "code",
   "execution_count": 2,
   "id": "b340c051",
   "metadata": {},
   "outputs": [
    {
     "name": "stdout",
     "output_type": "stream",
     "text": [
      "[5, 4, 3, 5, 8]\n"
     ]
    }
   ],
   "source": [
    "from array import *\n",
    "sample_data_array = array('i', [5, 4, 3, 5, 8])\n",
    "\n",
    "sample_data_list = sample_data_array.tolist()\n",
    "\n",
    "print(sample_data_list)"
   ]
  },
  {
   "cell_type": "markdown",
   "id": "2ac534b4",
   "metadata": {},
   "source": [
    "# Descriptive Statistics"
   ]
  },
  {
   "cell_type": "markdown",
   "id": "c50d6143",
   "metadata": {},
   "source": [
    "Computes the **Mean**"
   ]
  },
  {
   "cell_type": "code",
   "execution_count": 4,
   "id": "5beb2a60",
   "metadata": {},
   "outputs": [
    {
     "name": "stdout",
     "output_type": "stream",
     "text": [
      "The mean of this list is 81.5\n"
     ]
    }
   ],
   "source": [
    "def get_mean(ave):\n",
    "    print(\"The mean of this list is\", ave)\n",
    "    \n",
    "n_num = [78, 80, 79, 80, 87, 85]\n",
    "n = len(n_num)\n",
    "\n",
    "get_sum = sum(n_num)\n",
    "mean = get_sum / n\n",
    "\n",
    "m = str(mean)\n",
    "get_mean(m)"
   ]
  },
  {
   "cell_type": "markdown",
   "id": "f38d7ddb",
   "metadata": {},
   "source": [
    "Computes the **Median**"
   ]
  },
  {
   "cell_type": "code",
   "execution_count": 5,
   "id": "73cc1c97",
   "metadata": {},
   "outputs": [
    {
     "name": "stdout",
     "output_type": "stream",
     "text": [
      "Median 80.0\n"
     ]
    }
   ],
   "source": [
    "import array as arr\n",
    "\n",
    "def median(nums):\n",
    "    nums.sort()\n",
    "    if len(nums)%2 == 0:\n",
    "        return int(nums[len(nums)//2-1]+nums[len(nums)//2])/2\n",
    "    else:\n",
    "        return nums[len(nums)//2]\n",
    "    \n",
    "n_num = [78, 80, 79, 80, 87, 85]\n",
    "print(\"Median\", median(n_num))"
   ]
  },
  {
   "cell_type": "markdown",
   "id": "d4b97559",
   "metadata": {},
   "source": [
    "Computes for **Variance**"
   ]
  },
  {
   "cell_type": "code",
   "execution_count": 6,
   "id": "dd3bbedb",
   "metadata": {},
   "outputs": [
    {
     "name": "stdout",
     "output_type": "stream",
     "text": [
      "Variance: 5.14\n"
     ]
    }
   ],
   "source": [
    "friends_usage = [5, 4, 3, 5, 8, 2, 5, 2, 5, 8, 10, 8, 7, 9, 10, 5, 7, 5, 7, 5, 4, 3, 5, 8, 4]\n",
    "\n",
    "def print_friends_usage(friends_usage):\n",
    "    for usage in friends_usage:\n",
    "        print(g)\n",
    "        \n",
    "def friends_usage_sum(friends_usage):\n",
    "    total = 0\n",
    "    for usage in friends_usage:\n",
    "        total += usage\n",
    "    return total\n",
    "        \n",
    "def friends_usage_average(friends_usage):\n",
    "    sum_of_friends_usage = friends_usage_sum(friends_usage)\n",
    "    average = sum_of_friends_usage / float(len(friends_usage))\n",
    "    return average\n",
    "        \n",
    "def friends_usage_variance(scores):\n",
    "    average = friends_usage_average(scores)\n",
    "    variance = 0\n",
    "    for score in scores:\n",
    "        variance = variance + (average - score) ** 2\n",
    "    return variance / len(scores)\n",
    "    \n",
    "v = round(friends_usage_variance(friends_usage), 2)\n",
    "\n",
    "print(\"Variance:\", v)"
   ]
  },
  {
   "cell_type": "markdown",
   "id": "e8967f7b",
   "metadata": {},
   "source": [
    "Computes **Standard Deviation**"
   ]
  },
  {
   "cell_type": "code",
   "execution_count": 7,
   "id": "28e2a20c",
   "metadata": {},
   "outputs": [
    {
     "name": "stdout",
     "output_type": "stream",
     "text": [
      "Standard Deviation: 2.27\n"
     ]
    }
   ],
   "source": [
    "def friends_usage_std_dev(variance):\n",
    "    return variance ** 0.5\n",
    "\n",
    "variance = friends_usage_variance(friends_usage)\n",
    "s = round(friends_usage_std_dev(variance), 2)\n",
    "\n",
    "print(\"Standard Deviation:\", s)"
   ]
  },
  {
   "cell_type": "markdown",
   "id": "6dfb2e49",
   "metadata": {},
   "source": [
    "Use **Statistics Library**"
   ]
  },
  {
   "cell_type": "code",
   "execution_count": 8,
   "id": "e5ca9713",
   "metadata": {},
   "outputs": [],
   "source": [
    "import statistics\n",
    "\n",
    "friends_usage = [5, 4, 3, 5, 8, 2, 5, 2, 5, 8, 10, 8, 7, 9, 10, 5, 7, 5, 7, 5, 4, 3, 5, 8, 4]\n",
    "\n",
    "mean = statistics.mean(friends_usage) #Mean\n",
    "mode = statistics.mode(friends_usage) #Mode\n",
    "median = statistics.median(friends_usage) #Median\n",
    "pstdev = round(statistics.pstdev(friends_usage), 2) #Standard Deviation of the whole population\n",
    "pvariance = round(statistics.pvariance(friends_usage), 2) #Variance of the whole population\n",
    "srange = (max(friends_usage) - min(friends_usage)) #Range"
   ]
  },
  {
   "cell_type": "markdown",
   "id": "e7c948fe",
   "metadata": {},
   "source": [
    "All statistical operations use the methods in the **statistics library** except for the **range**.\n",
    "\n",
    "In finding the **range**, find the **minimum** value of the data set and subtract it to the **maximimum** valua of the dataset."
   ]
  },
  {
   "cell_type": "code",
   "execution_count": 9,
   "id": "db3791c8",
   "metadata": {},
   "outputs": [
    {
     "name": "stdout",
     "output_type": "stream",
     "text": [
      "Descriptive Statistics\n",
      "Mean: 5.76\n",
      "Mode: 5\n",
      "Median: 5\n",
      "Range: 8\n",
      "Population Variance: 5.14\n",
      "Population Standard Deviation: 2.27\n"
     ]
    }
   ],
   "source": [
    "import statistics\n",
    "\n",
    "friends_usage = [5, 4, 3, 5, 8, 2, 5, 2, 5, 8, 10, 8, 7, 9, 10, 5, 7, 5, 7, 5, 4, 3, 5, 8, 4]\n",
    "\n",
    "mean = statistics.mean(friends_usage) #Mean\n",
    "mode = statistics.mode(friends_usage) #Mode\n",
    "median = statistics.median(friends_usage) #Median\n",
    "pstdev = round(statistics.pstdev(friends_usage), 2) #Standard Deviation of the whole population\n",
    "pvariance = round(statistics.pvariance(friends_usage), 2) #Variance of the whole population\n",
    "srange = (max(friends_usage) - min(friends_usage)) #Range\n",
    "\n",
    "print(\"Descriptive Statistics\")\n",
    "print(\"Mean:\", mean)\n",
    "print(\"Mode:\", mode)\n",
    "print(\"Median:\", median)\n",
    "print(\"Range:\", srange)\n",
    "print(\"Population Variance:\", pvariance)\n",
    "print(\"Population Standard Deviation:\", pstdev)"
   ]
  },
  {
   "cell_type": "markdown",
   "id": "f341b584",
   "metadata": {},
   "source": [
    "**Statistical Analysis** are done based on **sample data** not the population."
   ]
  },
  {
   "cell_type": "code",
   "execution_count": 10,
   "id": "b66bb863",
   "metadata": {},
   "outputs": [
    {
     "name": "stdout",
     "output_type": "stream",
     "text": [
      "Descriptive Statistics\n",
      "Mean: 5.76\n",
      "Mode: 5\n",
      "Median: 5\n",
      "Range: 8\n",
      "\n",
      "Population\n",
      "Population Variance: 5.14\n",
      "Population Standard Deviation: 2.27\n",
      "\n",
      "Sample\n",
      "Sample Variance: 3.5\n",
      "Sample Standard Deviation: 1.87\n"
     ]
    }
   ],
   "source": [
    "import statistics\n",
    "import array as arr\n",
    "\n",
    "friends_usage = [5, 4, 3, 5, 8, 2, 5, 2, 5, 8, 10, 8, 7, 9, 10, 5, 7, 5, 7, 5, 4, 3, 5, 8, 4]\n",
    "\n",
    "sample_data = arr.array('i', friends_usage)\n",
    "dataset = sample_data[0:5]\n",
    "sample_data_list = dataset.tolist()\n",
    "\n",
    "mean = statistics.mean(friends_usage) #Mean\n",
    "mode = statistics.mode(friends_usage) #Mode\n",
    "median = statistics.median(friends_usage) #Median\n",
    "pstdev = round(statistics.pstdev(friends_usage), 2) #Standard Deviation of the whole population\n",
    "pvariance = round(statistics.pvariance(friends_usage), 2) #Variance of the whole population\n",
    "srange = (max(friends_usage) - min(friends_usage)) #Range\n",
    "\n",
    "variance = round(statistics.variance(sample_data_list), 2) #Variance of a Sample\n",
    "stdev = round(statistics.stdev(sample_data_list), 2) #Standard Deviation of a Sample\n",
    "\n",
    "print(\"Descriptive Statistics\")\n",
    "print(\"Mean:\", mean)\n",
    "print(\"Mode:\", mode)\n",
    "print(\"Median:\", median)\n",
    "print(\"Range:\", srange)\n",
    "print(\"\")\n",
    "print(\"Population\")\n",
    "print(\"Population Variance:\", pvariance)\n",
    "print(\"Population Standard Deviation:\", pstdev)\n",
    "print(\"\")\n",
    "print(\"Sample\")\n",
    "print(\"Sample Variance:\", variance)\n",
    "print(\"Sample Standard Deviation:\", stdev)"
   ]
  },
  {
   "cell_type": "markdown",
   "id": "da54a891",
   "metadata": {},
   "source": [
    "# NumPy Statistics"
   ]
  },
  {
   "cell_type": "markdown",
   "id": "446d8211",
   "metadata": {},
   "source": [
    "\"**Numerical Python**\" - a library of multidimensional array object and a collection of routines for procesing arrays\n",
    "\n",
    "For **Numerical Computation**"
   ]
  },
  {
   "cell_type": "code",
   "execution_count": 2,
   "id": "1ef4f7fe",
   "metadata": {},
   "outputs": [
    {
     "name": "stdout",
     "output_type": "stream",
     "text": [
      "Mean: 5.76\n",
      "Mode: ModeResult(mode=array([5]), count=array([8]))\n",
      "Median: 5.0\n",
      "Range: 8\n",
      "Population Variance: 5.14\n",
      "Population Standard Deviation: 2.27\n",
      "Sample Variance: 3.5\n",
      "Sample Standard Deviation: 1.87\n"
     ]
    }
   ],
   "source": [
    "import numpy as np\n",
    "import array as arr\n",
    "from scipy import stats\n",
    "\n",
    "f_usage = [5, 4, 3, 5, 8, 2, 5, 2, 5, 8, 10, 8, 7, 9, 10, 5, 7, 5, 7, 5, 4, 3, 5, 8, 4]\n",
    "\n",
    "def display_stat():\n",
    "    print(\"Mean:\", mean)\n",
    "    print(\"Mode:\", mode)\n",
    "    print(\"Median:\", median)\n",
    "    print(\"Range:\", srange)\n",
    "    print(\"Population Variance:\", pvariance)\n",
    "    print(\"Population Standard Deviation:\", pstdev)\n",
    "    print(\"Sample Variance:\", variance)\n",
    "    print(\"Sample Standard Deviation:\", stdev)\n",
    "    \n",
    "mean = np.mean(f_usage)\n",
    "median = np.median(f_usage)\n",
    "pvariance = round(np.var(f_usage), 2)\n",
    "pstdev = round(np.std(f_usage), 2)\n",
    "\n",
    "srange = np.ptp(f_usage)\n",
    "mode = stats.mode(f_usage)\n",
    "\n",
    "sample_data = arr.array('i', f_usage)\n",
    "dataset = sample_data[0:5]\n",
    "f_usage_s = dataset.tolist()\n",
    "\n",
    "variance = round(np.var(f_usage_s,ddof=1), 2)\n",
    "stdev = round(np.std(f_usage_s,ddof=1), 2)\n",
    "\n",
    "display_stat()"
   ]
  },
  {
   "cell_type": "code",
   "execution_count": null,
   "id": "5dcd754a",
   "metadata": {},
   "outputs": [],
   "source": []
  }
 ],
 "metadata": {
  "kernelspec": {
   "display_name": "Python 3 (ipykernel)",
   "language": "python",
   "name": "python3"
  },
  "language_info": {
   "codemirror_mode": {
    "name": "ipython",
    "version": 3
   },
   "file_extension": ".py",
   "mimetype": "text/x-python",
   "name": "python",
   "nbconvert_exporter": "python",
   "pygments_lexer": "ipython3",
   "version": "3.10.4"
  }
 },
 "nbformat": 4,
 "nbformat_minor": 5
}
